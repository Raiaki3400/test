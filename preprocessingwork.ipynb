{
  "nbformat": 4,
  "nbformat_minor": 0,
  "metadata": {
    "colab": {
      "provenance": [],
      "toc_visible": true,
      "authorship_tag": "ABX9TyMTf6Ycg3clGr9vpktH4wnt",
      "include_colab_link": true
    },
    "kernelspec": {
      "name": "python3",
      "display_name": "Python 3"
    },
    "language_info": {
      "name": "python"
    }
  },
  "cells": [
    {
      "cell_type": "markdown",
      "metadata": {
        "id": "view-in-github",
        "colab_type": "text"
      },
      "source": [
        "<a href=\"https://colab.research.google.com/github/Raiaki3400/test/blob/main/preprocessingwork.ipynb\" target=\"_parent\"><img src=\"https://colab.research.google.com/assets/colab-badge.svg\" alt=\"Open In Colab\"/></a>"
      ]
    },
    {
      "cell_type": "code",
      "execution_count": 1,
      "metadata": {
        "colab": {
          "base_uri": "https://localhost:8080/"
        },
        "id": "_iEimInzRHVP",
        "outputId": "a6933420-81ee-42de-bd38-8efdb559ff33"
      },
      "outputs": [
        {
          "output_type": "stream",
          "name": "stdout",
          "text": [
            "Downloading LJ Speech dataset...\n",
            "Extracting LJ Speech dataset...\n",
            "Error extracting the dataset: not a bzip2 file\n"
          ]
        }
      ],
      "source": [
        "import os\n",
        "import shutil\n",
        "import tarfile\n",
        "import requests\n",
        "\n",
        "# Function to download and extract LJ Speech dataset\n",
        "def download_ljspeech_dataset(data_dir):\n",
        "    lj_url = \"https://data.keithito.com/data/speech/LJSpeech-1.1.tar.bz2\"\n",
        "    lj_tar_file = os.path.join(data_dir, \"LJSpeech-1.1.tar.bz2\")\n",
        "\n",
        "    # Download LJ Speech dataset\n",
        "    print(\"Downloading LJ Speech dataset...\")\n",
        "    try:\n",
        "        response = requests.get(lj_url, stream=True)\n",
        "        with open(lj_tar_file, \"wb\") as f:\n",
        "            shutil.copyfileobj(response.raw, f)\n",
        "    except Exception as e:\n",
        "        print(\"Error downloading the dataset:\", e)\n",
        "        return\n",
        "\n",
        "    # Extract the tar file\n",
        "    print(\"Extracting LJ Speech dataset...\")\n",
        "    try:\n",
        "        with tarfile.open(lj_tar_file, \"r:bz2\") as tar:\n",
        "            tar.extractall(path=data_dir)\n",
        "    except tarfile.ReadError as e:\n",
        "        print(\"Error extracting the dataset:\", e)\n",
        "        return\n",
        "\n",
        "# Define directory to store dataset\n",
        "data_dir = \"datasets\"\n",
        "\n",
        "# Create directory if it doesn't exist\n",
        "os.makedirs(data_dir, exist_ok=True)\n",
        "\n",
        "# Download and extract LJ Speech dataset\n",
        "download_ljspeech_dataset(data_dir)\n"
      ]
    },
    {
      "cell_type": "code",
      "source": [
        "import librosa\n",
        "import numpy as np\n",
        "import soundfile as sf\n",
        "\n",
        "# Define functions for data preprocessing steps\n",
        "\n",
        "def data_cleaning(audio_data, sr):\n",
        "    # Example: Remove silence\n",
        "    trimmed_audio, _ = librosa.effects.trim(audio_data)\n",
        "    return trimmed_audio\n",
        "\n",
        "def normalization(audio_data):\n",
        "    # Example: Scale audio to have maximum absolute amplitude of 1\n",
        "    max_amp = np.max(np.abs(audio_data))\n",
        "    normalized_audio = audio_data / max_amp\n",
        "    return normalized_audio\n",
        "\n",
        "def augmentation(audio_data, sr):\n",
        "    # Example: Pitch shifting\n",
        "    pitched_audio = librosa.effects.pitch_shift(audio_data, sr=44100, n_steps=2)\n",
        "    return pitched_audio\n",
        "\n",
        "# Load audio file\n",
        "file_path = \"/content/Test.wav\"\n",
        "audio_data, sr = librosa.load(file_path, sr=None, mono=True)  # Ensure audio is loaded as mono\n",
        "\n",
        "# Preprocess the audio data\n",
        "cleaned_audio = data_cleaning(audio_data, sr)\n",
        "normalized_audio = normalization(cleaned_audio)\n",
        "augmented_audio = augmentation(normalized_audio, sr)\n",
        "\n",
        "# Save preprocessed audio to a new file using soundfile\n",
        "output_path = \"preprocessed_audio.wav\"\n",
        "sf.write(output_path, augmented_audio, sr)\n",
        "\n",
        "\n",
        "\n"
      ],
      "metadata": {
        "colab": {
          "base_uri": "https://localhost:8080/"
        },
        "id": "l7uZQcpZUJZk",
        "outputId": "96bf7034-beb5-4dfd-e027-4c2d51e1bf91"
      },
      "execution_count": 18,
      "outputs": [
        {
          "output_type": "stream",
          "name": "stderr",
          "text": [
            "<ipython-input-18-5b0dd3a1bdbf>:25: UserWarning: PySoundFile failed. Trying audioread instead.\n",
            "  audio_data, sr = librosa.load(file_path, sr=None, mono=True)  # Ensure audio is loaded as mono\n",
            "/usr/local/lib/python3.10/dist-packages/librosa/core/audio.py:183: FutureWarning: librosa.core.audio.__audioread_load\n",
            "\tDeprecated as of librosa version 0.10.0.\n",
            "\tIt will be removed in librosa version 1.0.\n",
            "  y, sr_native = __audioread_load(path, offset, duration, dtype)\n"
          ]
        }
      ]
    },
    {
      "cell_type": "code",
      "source": [],
      "metadata": {
        "id": "wVZTTjfHWwm4"
      },
      "execution_count": null,
      "outputs": []
    }
  ]
}