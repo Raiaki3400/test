{
  "nbformat": 4,
  "nbformat_minor": 0,
  "metadata": {
    "colab": {
      "provenance": [],
      "authorship_tag": "ABX9TyPcvgNgLCrtFHyVgu/VrtBb",
      "include_colab_link": true
    },
    "kernelspec": {
      "name": "python3",
      "display_name": "Python 3"
    },
    "language_info": {
      "name": "python"
    }
  },
  "cells": [
    {
      "cell_type": "markdown",
      "metadata": {
        "id": "view-in-github",
        "colab_type": "text"
      },
      "source": [
        "<a href=\"https://colab.research.google.com/github/Raiaki3400/test/blob/main/TTS.ipynb\" target=\"_parent\"><img src=\"https://colab.research.google.com/assets/colab-badge.svg\" alt=\"Open In Colab\"/></a>"
      ]
    },
    {
      "cell_type": "code",
      "execution_count": null,
      "metadata": {
        "colab": {
          "base_uri": "https://localhost:8080/"
        },
        "id": "_iEimInzRHVP",
        "outputId": "a6933420-81ee-42de-bd38-8efdb559ff33"
      },
      "outputs": [
        {
          "output_type": "stream",
          "name": "stdout",
          "text": [
            "Downloading LJ Speech dataset...\n"
          ]
        }
      ],
      "source": [
        "import os\n",
        "import shutil\n",
        "import tarfile\n",
        "import requests\n",
        "\n",
        "# Function to download and extract LJ Speech dataset\n",
        "def download_ljspeech_dataset(data_dir):\n",
        "    lj_url = \"https://data.keithito.com/data/speech/LJSpeech-1.1.tar.bz2\"\n",
        "    lj_tar_file = os.path.join(data_dir, \"LJSpeech-1.1.tar.bz2\")\n",
        "\n",
        "    # Download LJ Speech dataset\n",
        "    print(\"Downloading LJ Speech dataset...\")\n",
        "    try:\n",
        "        response = requests.get(lj_url, stream=True)\n",
        "        with open(lj_tar_file, \"wb\") as f:\n",
        "            shutil.copyfileobj(response.raw, f)\n",
        "    except Exception as e:\n",
        "        print(\"Error downloading the dataset:\", e)\n",
        "        return\n",
        "\n",
        "    # Extract the tar file\n",
        "    print(\"Extracting LJ Speech dataset...\")\n",
        "    try:\n",
        "        with tarfile.open(lj_tar_file, \"r:bz2\") as tar:\n",
        "            tar.extractall(path=data_dir)\n",
        "    except tarfile.ReadError as e:\n",
        "        print(\"Error extracting the dataset:\", e)\n",
        "        return\n",
        "\n",
        "# Define directory to store dataset\n",
        "data_dir = \"datasets\"\n",
        "\n",
        "# Create directory if it doesn't exist\n",
        "os.makedirs(data_dir, exist_ok=True)\n",
        "\n",
        "# Download and extract LJ Speech dataset\n",
        "download_ljspeech_dataset(data_dir)\n"
      ]
    }
  ]
}